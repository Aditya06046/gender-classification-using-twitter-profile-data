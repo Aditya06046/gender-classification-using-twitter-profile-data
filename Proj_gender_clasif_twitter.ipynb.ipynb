{
 "cells": [
  {
   "cell_type": "markdown",
   "metadata": {},
   "source": [
    "# Twitter User Gender Classification                              #  Aditya Mandapaka  \n",
    "Predict user gender based on Twitter profile information                                                                                \n",
    "\n",
    "### Table of Contents:\n",
    "1. Understanding Dataset\n",
    "2. Cleaning Dataset\n",
    "3. Visualizing Dataset\n",
    "4. Classification Modeling"
   ]
  },
  {
   "cell_type": "code",
   "execution_count": 1,
   "metadata": {},
   "outputs": [
    {
     "ename": "ModuleNotFoundError",
     "evalue": "No module named 'pandas'",
     "output_type": "error",
     "traceback": [
      "\u001b[1;31m---------------------------------------------------------------------------\u001b[0m",
      "\u001b[1;31mModuleNotFoundError\u001b[0m                       Traceback (most recent call last)",
      "\u001b[1;32mc:\\Users\\ADITYA\\Downloads\\Proj_gender_clasif_twitter.ipynb Cell 2\u001b[0m line \u001b[0;36m3\n\u001b[0;32m      <a href='vscode-notebook-cell:/c%3A/Users/ADITYA/Downloads/Proj_gender_clasif_twitter.ipynb#W1sZmlsZQ%3D%3D?line=0'>1</a>\u001b[0m \u001b[39m# Import libraries\u001b[39;00m\n\u001b[1;32m----> <a href='vscode-notebook-cell:/c%3A/Users/ADITYA/Downloads/Proj_gender_clasif_twitter.ipynb#W1sZmlsZQ%3D%3D?line=2'>3</a>\u001b[0m \u001b[39mimport\u001b[39;00m \u001b[39mpandas\u001b[39;00m \u001b[39mas\u001b[39;00m \u001b[39mpd\u001b[39;00m\n\u001b[0;32m      <a href='vscode-notebook-cell:/c%3A/Users/ADITYA/Downloads/Proj_gender_clasif_twitter.ipynb#W1sZmlsZQ%3D%3D?line=3'>4</a>\u001b[0m \u001b[39mimport\u001b[39;00m \u001b[39mnumpy\u001b[39;00m \u001b[39mas\u001b[39;00m \u001b[39mnp\u001b[39;00m\n\u001b[0;32m      <a href='vscode-notebook-cell:/c%3A/Users/ADITYA/Downloads/Proj_gender_clasif_twitter.ipynb#W1sZmlsZQ%3D%3D?line=4'>5</a>\u001b[0m \u001b[39mimport\u001b[39;00m \u001b[39mmatplotlib\u001b[39;00m\u001b[39m.\u001b[39;00m\u001b[39mpyplot\u001b[39;00m \u001b[39mas\u001b[39;00m \u001b[39mplt\u001b[39;00m\n",
      "\u001b[1;31mModuleNotFoundError\u001b[0m: No module named 'pandas'"
     ]
    }
   ],
   "source": [
    "# Import libraries\n",
    "\n",
    "import pandas as pd\n",
    "import numpy as np\n",
    "import matplotlib.pyplot as plt\n",
    "import seaborn as sns\n",
    "\n",
    "# Preprocessing data\n",
    "from sklearn.preprocessing import MinMaxScaler\n",
    "from sklearn.model_selection import train_test_split\n",
    "from sklearn.pipeline import Pipeline\n",
    "from sklearn.feature_extraction.text import TfidfVectorizer\n",
    "\n",
    "# Handling text data\n",
    "import re\n",
    "import regex\n",
    "import nltk\n",
    "from collections import Counter\n",
    "from nltk.stem import PorterStemmer\n",
    "nltk.download('stopwords')\n",
    "from nltk.corpus import stopwords\n",
    "\n",
    "# Machine learning models\n",
    "from sklearn.linear_model import LogisticRegression\n",
    "from sklearn.naive_bayes import ComplementNB\n",
    "from sklearn.svm import SVC\n",
    "from sklearn.ensemble import RandomForestClassifier\n",
    "from sklearn.ensemble import VotingClassifier\n",
    "from sklearn.metrics import accuracy_score, confusion_matrix, classification_report\n",
    "\n",
    "%matplotlib inline"
   ]
  },
  {
   "cell_type": "markdown",
   "metadata": {},
   "source": [
    "## 1. Understanding Dataset\n",
    "\n",
    "This dataset is obtained from [Kaggle](https://www.kaggle.com/crowdflower/twitter-user-gender-classification).\n",
    "\n",
    "The dataset contains 20,000 rows, each with a user name, a random tweet, account profile and image, location, and even link and sidebar color.\n",
    "\n",
    "Attributes that do not provide useful information for *Gender classification*:\n",
    " - **_unit_id**: a unique id for user\n",
    " - **_last_judgment_at**: date and time of last contributor judgment; blank for gold standard observations\n",
    " - **user_timezone**: the timezone of the user\n",
    " - **tweet_coord**: if the user has location turned on, the coordinates as a string with the format \"[latitude, longitude]\"\n",
    " - **tweet_created**: when the random tweet (in the text column) was created\n",
    " - **tweet_id**: the tweet id of the random tweet\n",
    " - **tweet_location**: location of the tweet; seems to not be particularly normalized \n",
    " - **profileimage**: a link to the profile image\n",
    " - **created**: date and time when the profile was created\n",
    " \n",
    " \n",
    "Attributes that potentially provide useful information for *Gender classification*:\n",
    " - **_golden**: whether the user was included in the gold standard for the model; TRUE or FALSE\n",
    " - **_unit_state**: state of the observation; one of finalized (for contributor-judged) or golden (for gold standard observations)\n",
    " - **_trusted_judgments**: number of trusted judgments (int); always 3 for non-golden, and what may be a unique id for gold standard observations\n",
    " - **gender**: one of male, female, or brand (for non-human profiles)\n",
    " - **gender:confidence**: a float representing confidence in the provided gender\n",
    " - **gender_gold**: if the profile is golden, what is the gender?\n",
    " - **profile_yn**: \"no\" here seems to mean that the profile was meant to be part of the dataset but was not available when contributors went to judge it\n",
    " - **profile_yn:confidence**: confidence in the existence/non-existence of the profile\n",
    " - **profile_yn_gold**: whether the profile y/n value is golden\n",
    " - **description**: the user's profile description\n",
    " - **fav_number**: number of tweets the user has favorited\n",
    " - **link_color**: the link color on the profile, as a hex value\n",
    " - **name**: the user's name\n",
    " - **retweet_count**: number of times the user has retweeted (or possibly, been retweeted)\n",
    " - **sidebar_color**: color of the profile sidebar, as a hex value\n",
    " - **text**: text of a random one of the user's tweets\n",
    " - **tweet_count**: number of tweets that the user has posted\n"
   ]
  },
  {
   "cell_type": "code",
   "execution_count": 3,
   "metadata": {
    "scrolled": false
   },
   "outputs": [
    {
     "name": "stdout",
     "output_type": "stream",
     "text": [
      "<class 'pandas.core.frame.DataFrame'>\n",
      "RangeIndex: 20050 entries, 0 to 20049\n",
      "Data columns (total 16 columns):\n",
      " #   Column                 Non-Null Count  Dtype  \n",
      "---  ------                 --------------  -----  \n",
      " 0   _golden                20050 non-null  bool   \n",
      " 1   _unit_state            20050 non-null  object \n",
      " 2   _trusted_judgments     20050 non-null  int64  \n",
      " 3   gender                 19953 non-null  object \n",
      " 4   gender:confidence      20024 non-null  float64\n",
      " 5   profile_yn             20050 non-null  object \n",
      " 6   profile_yn:confidence  20050 non-null  float64\n",
      " 7   description            16306 non-null  object \n",
      " 8   fav_number             20050 non-null  int64  \n",
      " 9   gender_gold            50 non-null     object \n",
      " 10  link_color             20050 non-null  object \n",
      " 11  profile_yn_gold        50 non-null     object \n",
      " 12  retweet_count          20050 non-null  int64  \n",
      " 13  sidebar_color          20050 non-null  object \n",
      " 14  text                   20050 non-null  object \n",
      " 15  tweet_count            20050 non-null  int64  \n",
      "dtypes: bool(1), float64(2), int64(4), object(9)\n",
      "memory usage: 2.3+ MB\n"
     ]
    }
   ],
   "source": [
    "# Load dataset\n",
    "data = pd.read_csv('Information.csv', encoding='latin-1')\n",
    "\n",
    "# Drop unnecessary columns/features\n",
    "data.drop (columns = ['_unit_id',\n",
    "                      '_last_judgment_at',\n",
    "                      'user_timezone',\n",
    "                      'tweet_coord',\n",
    "                      'tweet_created', \n",
    "                      'tweet_id',\n",
    "                      'tweet_location',\n",
    "                      'profileimage',\n",
    "                      'created',\n",
    "                      'name'], inplace = True)\n",
    "\n",
    "data.info()"
   ]
  },
  {
   "cell_type": "code",
   "execution_count": 4,
   "metadata": {},
   "outputs": [
    {
     "data": {
      "text/html": [
       "<div>\n",
       "<style scoped>\n",
       "    .dataframe tbody tr th:only-of-type {\n",
       "        vertical-align: middle;\n",
       "    }\n",
       "\n",
       "    .dataframe tbody tr th {\n",
       "        vertical-align: top;\n",
       "    }\n",
       "\n",
       "    .dataframe thead th {\n",
       "        text-align: right;\n",
       "    }\n",
       "</style>\n",
       "<table border=\"1\" class=\"dataframe\">\n",
       "  <thead>\n",
       "    <tr style=\"text-align: right;\">\n",
       "      <th></th>\n",
       "      <th>_golden</th>\n",
       "      <th>_unit_state</th>\n",
       "      <th>_trusted_judgments</th>\n",
       "      <th>gender</th>\n",
       "      <th>gender:confidence</th>\n",
       "      <th>profile_yn</th>\n",
       "      <th>profile_yn:confidence</th>\n",
       "      <th>description</th>\n",
       "      <th>fav_number</th>\n",
       "      <th>gender_gold</th>\n",
       "      <th>link_color</th>\n",
       "      <th>profile_yn_gold</th>\n",
       "      <th>retweet_count</th>\n",
       "      <th>sidebar_color</th>\n",
       "      <th>text</th>\n",
       "      <th>tweet_count</th>\n",
       "    </tr>\n",
       "  </thead>\n",
       "  <tbody>\n",
       "    <tr>\n",
       "      <th>0</th>\n",
       "      <td>False</td>\n",
       "      <td>finalized</td>\n",
       "      <td>3</td>\n",
       "      <td>male</td>\n",
       "      <td>1.0000</td>\n",
       "      <td>yes</td>\n",
       "      <td>1.0</td>\n",
       "      <td>i sing my own rhythm.</td>\n",
       "      <td>0</td>\n",
       "      <td>NaN</td>\n",
       "      <td>08C2C2</td>\n",
       "      <td>NaN</td>\n",
       "      <td>0</td>\n",
       "      <td>FFFFFF</td>\n",
       "      <td>Robbie E Responds To Critics After Win Against...</td>\n",
       "      <td>110964</td>\n",
       "    </tr>\n",
       "    <tr>\n",
       "      <th>1</th>\n",
       "      <td>False</td>\n",
       "      <td>finalized</td>\n",
       "      <td>3</td>\n",
       "      <td>male</td>\n",
       "      <td>1.0000</td>\n",
       "      <td>yes</td>\n",
       "      <td>1.0</td>\n",
       "      <td>I'm the author of novels filled with family dr...</td>\n",
       "      <td>68</td>\n",
       "      <td>NaN</td>\n",
       "      <td>0084B4</td>\n",
       "      <td>NaN</td>\n",
       "      <td>0</td>\n",
       "      <td>C0DEED</td>\n",
       "      <td>ÛÏIt felt like they were my friends and I was...</td>\n",
       "      <td>7471</td>\n",
       "    </tr>\n",
       "    <tr>\n",
       "      <th>2</th>\n",
       "      <td>False</td>\n",
       "      <td>finalized</td>\n",
       "      <td>3</td>\n",
       "      <td>male</td>\n",
       "      <td>0.6625</td>\n",
       "      <td>yes</td>\n",
       "      <td>1.0</td>\n",
       "      <td>louis whining and squealing and all</td>\n",
       "      <td>7696</td>\n",
       "      <td>NaN</td>\n",
       "      <td>ABB8C2</td>\n",
       "      <td>NaN</td>\n",
       "      <td>1</td>\n",
       "      <td>C0DEED</td>\n",
       "      <td>i absolutely adore when louis starts the songs...</td>\n",
       "      <td>5617</td>\n",
       "    </tr>\n",
       "    <tr>\n",
       "      <th>3</th>\n",
       "      <td>False</td>\n",
       "      <td>finalized</td>\n",
       "      <td>3</td>\n",
       "      <td>male</td>\n",
       "      <td>1.0000</td>\n",
       "      <td>yes</td>\n",
       "      <td>1.0</td>\n",
       "      <td>Mobile guy.  49ers, Shazam, Google, Kleiner Pe...</td>\n",
       "      <td>202</td>\n",
       "      <td>NaN</td>\n",
       "      <td>0084B4</td>\n",
       "      <td>NaN</td>\n",
       "      <td>0</td>\n",
       "      <td>C0DEED</td>\n",
       "      <td>Hi @JordanSpieth - Looking at the url - do you...</td>\n",
       "      <td>1693</td>\n",
       "    </tr>\n",
       "    <tr>\n",
       "      <th>4</th>\n",
       "      <td>False</td>\n",
       "      <td>finalized</td>\n",
       "      <td>3</td>\n",
       "      <td>female</td>\n",
       "      <td>1.0000</td>\n",
       "      <td>yes</td>\n",
       "      <td>1.0</td>\n",
       "      <td>Ricky Wilson The Best FRONTMAN/Kaiser Chiefs T...</td>\n",
       "      <td>37318</td>\n",
       "      <td>NaN</td>\n",
       "      <td>3B94D9</td>\n",
       "      <td>NaN</td>\n",
       "      <td>0</td>\n",
       "      <td>0</td>\n",
       "      <td>Watching Neighbours on Sky+ catching up with t...</td>\n",
       "      <td>31462</td>\n",
       "    </tr>\n",
       "  </tbody>\n",
       "</table>\n",
       "</div>"
      ],
      "text/plain": [
       "   _golden _unit_state  _trusted_judgments  gender  gender:confidence  \\\n",
       "0    False   finalized                   3    male             1.0000   \n",
       "1    False   finalized                   3    male             1.0000   \n",
       "2    False   finalized                   3    male             0.6625   \n",
       "3    False   finalized                   3    male             1.0000   \n",
       "4    False   finalized                   3  female             1.0000   \n",
       "\n",
       "  profile_yn  profile_yn:confidence  \\\n",
       "0        yes                    1.0   \n",
       "1        yes                    1.0   \n",
       "2        yes                    1.0   \n",
       "3        yes                    1.0   \n",
       "4        yes                    1.0   \n",
       "\n",
       "                                         description  fav_number gender_gold  \\\n",
       "0                              i sing my own rhythm.           0         NaN   \n",
       "1  I'm the author of novels filled with family dr...          68         NaN   \n",
       "2                louis whining and squealing and all        7696         NaN   \n",
       "3  Mobile guy.  49ers, Shazam, Google, Kleiner Pe...         202         NaN   \n",
       "4  Ricky Wilson The Best FRONTMAN/Kaiser Chiefs T...       37318         NaN   \n",
       "\n",
       "  link_color profile_yn_gold  retweet_count sidebar_color  \\\n",
       "0     08C2C2             NaN              0        FFFFFF   \n",
       "1     0084B4             NaN              0        C0DEED   \n",
       "2     ABB8C2             NaN              1        C0DEED   \n",
       "3     0084B4             NaN              0        C0DEED   \n",
       "4     3B94D9             NaN              0             0   \n",
       "\n",
       "                                                text  tweet_count  \n",
       "0  Robbie E Responds To Critics After Win Against...       110964  \n",
       "1  ÛÏIt felt like they were my friends and I was...         7471  \n",
       "2  i absolutely adore when louis starts the songs...         5617  \n",
       "3  Hi @JordanSpieth - Looking at the url - do you...         1693  \n",
       "4  Watching Neighbours on Sky+ catching up with t...        31462  "
      ]
     },
     "execution_count": 4,
     "metadata": {},
     "output_type": "execute_result"
    }
   ],
   "source": [
    "data.head()"
   ]
  },
  {
   "cell_type": "code",
   "execution_count": 5,
   "metadata": {},
   "outputs": [
    {
     "data": {
      "text/html": [
       "<div>\n",
       "<style scoped>\n",
       "    .dataframe tbody tr th:only-of-type {\n",
       "        vertical-align: middle;\n",
       "    }\n",
       "\n",
       "    .dataframe tbody tr th {\n",
       "        vertical-align: top;\n",
       "    }\n",
       "\n",
       "    .dataframe thead th {\n",
       "        text-align: right;\n",
       "    }\n",
       "</style>\n",
       "<table border=\"1\" class=\"dataframe\">\n",
       "  <thead>\n",
       "    <tr style=\"text-align: right;\">\n",
       "      <th></th>\n",
       "      <th>_trusted_judgments</th>\n",
       "      <th>gender:confidence</th>\n",
       "      <th>profile_yn:confidence</th>\n",
       "      <th>fav_number</th>\n",
       "      <th>retweet_count</th>\n",
       "      <th>tweet_count</th>\n",
       "    </tr>\n",
       "  </thead>\n",
       "  <tbody>\n",
       "    <tr>\n",
       "      <th>count</th>\n",
       "      <td>20050.000000</td>\n",
       "      <td>20024.000000</td>\n",
       "      <td>20050.000000</td>\n",
       "      <td>20050.000000</td>\n",
       "      <td>20050.000000</td>\n",
       "      <td>2.005000e+04</td>\n",
       "    </tr>\n",
       "    <tr>\n",
       "      <th>mean</th>\n",
       "      <td>3.615711</td>\n",
       "      <td>0.882756</td>\n",
       "      <td>0.993221</td>\n",
       "      <td>4382.201646</td>\n",
       "      <td>0.079401</td>\n",
       "      <td>3.892469e+04</td>\n",
       "    </tr>\n",
       "    <tr>\n",
       "      <th>std</th>\n",
       "      <td>12.331890</td>\n",
       "      <td>0.191403</td>\n",
       "      <td>0.047168</td>\n",
       "      <td>12518.575919</td>\n",
       "      <td>2.649751</td>\n",
       "      <td>1.168371e+05</td>\n",
       "    </tr>\n",
       "    <tr>\n",
       "      <th>min</th>\n",
       "      <td>3.000000</td>\n",
       "      <td>0.000000</td>\n",
       "      <td>0.627200</td>\n",
       "      <td>0.000000</td>\n",
       "      <td>0.000000</td>\n",
       "      <td>1.000000e+00</td>\n",
       "    </tr>\n",
       "    <tr>\n",
       "      <th>25%</th>\n",
       "      <td>3.000000</td>\n",
       "      <td>0.677800</td>\n",
       "      <td>1.000000</td>\n",
       "      <td>11.000000</td>\n",
       "      <td>0.000000</td>\n",
       "      <td>2.398000e+03</td>\n",
       "    </tr>\n",
       "    <tr>\n",
       "      <th>50%</th>\n",
       "      <td>3.000000</td>\n",
       "      <td>1.000000</td>\n",
       "      <td>1.000000</td>\n",
       "      <td>456.000000</td>\n",
       "      <td>0.000000</td>\n",
       "      <td>1.144150e+04</td>\n",
       "    </tr>\n",
       "    <tr>\n",
       "      <th>75%</th>\n",
       "      <td>3.000000</td>\n",
       "      <td>1.000000</td>\n",
       "      <td>1.000000</td>\n",
       "      <td>3315.500000</td>\n",
       "      <td>0.000000</td>\n",
       "      <td>4.002750e+04</td>\n",
       "    </tr>\n",
       "    <tr>\n",
       "      <th>max</th>\n",
       "      <td>274.000000</td>\n",
       "      <td>1.000000</td>\n",
       "      <td>1.000000</td>\n",
       "      <td>341621.000000</td>\n",
       "      <td>330.000000</td>\n",
       "      <td>2.680199e+06</td>\n",
       "    </tr>\n",
       "  </tbody>\n",
       "</table>\n",
       "</div>"
      ],
      "text/plain": [
       "       _trusted_judgments  gender:confidence  profile_yn:confidence  \\\n",
       "count        20050.000000       20024.000000           20050.000000   \n",
       "mean             3.615711           0.882756               0.993221   \n",
       "std             12.331890           0.191403               0.047168   \n",
       "min              3.000000           0.000000               0.627200   \n",
       "25%              3.000000           0.677800               1.000000   \n",
       "50%              3.000000           1.000000               1.000000   \n",
       "75%              3.000000           1.000000               1.000000   \n",
       "max            274.000000           1.000000               1.000000   \n",
       "\n",
       "          fav_number  retweet_count   tweet_count  \n",
       "count   20050.000000   20050.000000  2.005000e+04  \n",
       "mean     4382.201646       0.079401  3.892469e+04  \n",
       "std     12518.575919       2.649751  1.168371e+05  \n",
       "min         0.000000       0.000000  1.000000e+00  \n",
       "25%        11.000000       0.000000  2.398000e+03  \n",
       "50%       456.000000       0.000000  1.144150e+04  \n",
       "75%      3315.500000       0.000000  4.002750e+04  \n",
       "max    341621.000000     330.000000  2.680199e+06  "
      ]
     },
     "execution_count": 5,
     "metadata": {},
     "output_type": "execute_result"
    }
   ],
   "source": [
    "data.describe()"
   ]
  },
  {
   "cell_type": "markdown",
   "metadata": {},
   "source": [
    "## 2. Cleaning Dataset"
   ]
  },
  {
   "cell_type": "markdown",
   "metadata": {},
   "source": [
    "### Target variable: `Gender`"
   ]
  },
  {
   "cell_type": "code",
   "execution_count": 6,
   "metadata": {},
   "outputs": [
    {
     "data": {
      "text/plain": [
       "female     6700\n",
       "male       6194\n",
       "brand      5942\n",
       "unknown    1117\n",
       "Name: gender, dtype: int64"
      ]
     },
     "execution_count": 6,
     "metadata": {},
     "output_type": "execute_result"
    }
   ],
   "source": [
    "data['gender'].value_counts()"
   ]
  },
  {
   "cell_type": "code",
   "execution_count": 7,
   "metadata": {
    "scrolled": true
   },
   "outputs": [
    {
     "data": {
      "text/plain": [
       "female    6700\n",
       "male      6194\n",
       "brand     5942\n",
       "Name: gender, dtype: int64"
      ]
     },
     "execution_count": 7,
     "metadata": {},
     "output_type": "execute_result"
    }
   ],
   "source": [
    "# We can see that there are 1117 unknown genders, so get rid of them\n",
    "unknown_items_idx = data[data['gender'] == 'unknown'].index\n",
    "data.drop (index = unknown_items_idx, inplace = True)\n",
    "data['gender'].value_counts()"
   ]
  },
  {
   "cell_type": "markdown",
   "metadata": {},
   "source": [
    "### 'Profile' Attribute (profile_yn, profile_yn:confidence, profile_yn_gold)\n",
    "**'No'**: Profile was meant to be part of the dataset but was not available when contributors went to judge it."
   ]
  },
  {
   "cell_type": "code",
   "execution_count": 8,
   "metadata": {
    "scrolled": true
   },
   "outputs": [
    {
     "name": "stdout",
     "output_type": "stream",
     "text": [
      "Profile_yn information:\n",
      " yes    18836\n",
      "no        97\n",
      "Name: profile_yn, dtype: int64\n",
      "----------------------------------------\n",
      "Number of NaN instances when profile_yn is No:  97\n"
     ]
    }
   ],
   "source": [
    "print('Profile_yn information:\\n',data['profile_yn'].value_counts())\n",
    "print('-'*40)\n",
    "print('Number of NaN instances when profile_yn is No: ', data[data['profile_yn'] == 'no']['gender'].isnull().sum())"
   ]
  },
  {
   "cell_type": "markdown",
   "metadata": {},
   "source": [
    "It is shown that all of 97 instances with **profile_yn** == **no** are all **NaN** in **gender**. Therefore, i get rid of these 97 instances for now.\n",
    "\n",
    "At this point, `profile_yn`  seems not to be informative towards the target. Therefore, i also eliminate **profile_yn**, **profile_yn:confidence** and **profile_yn_gold** as they are not useful anymore."
   ]
  },
  {
   "cell_type": "code",
   "execution_count": 9,
   "metadata": {},
   "outputs": [],
   "source": [
    "drop_items_idx = data[data['profile_yn'] == 'no'].index\n",
    "data.drop (index = drop_items_idx, inplace = True)\n",
    "data.drop (columns = ['profile_yn','profile_yn:confidence','profile_yn_gold'], inplace = True)"
   ]
  },
  {
   "cell_type": "markdown",
   "metadata": {},
   "source": [
    "### Low-confidence gender (gender:confidence)\n",
    "\n",
    "I decide to keep only 100% confidence of labeling Gender and get rid of those < 100% confidence."
   ]
  },
  {
   "cell_type": "code",
   "execution_count": 10,
   "metadata": {},
   "outputs": [
    {
     "name": "stdout",
     "output_type": "stream",
     "text": [
      "Full data items:  (18836, 13)\n",
      "Data with label-confidence < 100%:  (5032, 13)\n"
     ]
    }
   ],
   "source": [
    "print ('Full data items: ', data.shape)\n",
    "print ('Data with label-confidence < 100%: ', data[data['gender:confidence'] < 1].shape)"
   ]
  },
  {
   "cell_type": "markdown",
   "metadata": {},
   "source": [
    "Approximately **26.7%** (5032/18836) of labeled instances were lower 100% of confidence\n",
    "\n",
    "Eliminate those instances and the feature **gender:confidence** as it is not useful anymore."
   ]
  },
  {
   "cell_type": "code",
   "execution_count": 11,
   "metadata": {},
   "outputs": [],
   "source": [
    "drop_items_idx = data[data['gender:confidence'] < 1].index\n",
    "data.drop (index = drop_items_idx, inplace = True)\n",
    "data.drop (columns = ['gender:confidence'], inplace = True)"
   ]
  },
  {
   "cell_type": "markdown",
   "metadata": {},
   "source": [
    "### Getting rid of remaining useless features"
   ]
  },
  {
   "cell_type": "code",
   "execution_count": 12,
   "metadata": {},
   "outputs": [
    {
     "name": "stdout",
     "output_type": "stream",
     "text": [
      "female    5367\n",
      "male      4653\n",
      "brand     3784\n",
      "Name: gender, dtype: int64\n",
      "----------------------------------------\n",
      "<class 'pandas.core.frame.DataFrame'>\n",
      "Int64Index: 13804 entries, 0 to 20049\n",
      "Data columns (total 8 columns):\n",
      " #   Column         Non-Null Count  Dtype \n",
      "---  ------         --------------  ----- \n",
      " 0   gender         13804 non-null  object\n",
      " 1   description    11773 non-null  object\n",
      " 2   fav_number     13804 non-null  int64 \n",
      " 3   link_color     13804 non-null  object\n",
      " 4   retweet_count  13804 non-null  int64 \n",
      " 5   sidebar_color  13804 non-null  object\n",
      " 6   text           13804 non-null  object\n",
      " 7   tweet_count    13804 non-null  int64 \n",
      "dtypes: int64(3), object(5)\n",
      "memory usage: 970.6+ KB\n"
     ]
    }
   ],
   "source": [
    "data.drop (columns = ['_golden','_unit_state','_trusted_judgments','gender_gold'], inplace = True)\n",
    "\n",
    "# Double check the data \n",
    "print (data['gender'].value_counts())\n",
    "print ('-'*40)\n",
    "data.info()"
   ]
  },
  {
   "cell_type": "code",
   "execution_count": 13,
   "metadata": {},
   "outputs": [
    {
     "data": {
      "text/html": [
       "<div>\n",
       "<style scoped>\n",
       "    .dataframe tbody tr th:only-of-type {\n",
       "        vertical-align: middle;\n",
       "    }\n",
       "\n",
       "    .dataframe tbody tr th {\n",
       "        vertical-align: top;\n",
       "    }\n",
       "\n",
       "    .dataframe thead th {\n",
       "        text-align: right;\n",
       "    }\n",
       "</style>\n",
       "<table border=\"1\" class=\"dataframe\">\n",
       "  <thead>\n",
       "    <tr style=\"text-align: right;\">\n",
       "      <th></th>\n",
       "      <th>fav_number</th>\n",
       "      <th>retweet_count</th>\n",
       "      <th>tweet_count</th>\n",
       "    </tr>\n",
       "  </thead>\n",
       "  <tbody>\n",
       "    <tr>\n",
       "      <th>count</th>\n",
       "      <td>13804.000000</td>\n",
       "      <td>13804.000000</td>\n",
       "      <td>1.380400e+04</td>\n",
       "    </tr>\n",
       "    <tr>\n",
       "      <th>mean</th>\n",
       "      <td>4235.962692</td>\n",
       "      <td>0.068169</td>\n",
       "      <td>3.807311e+04</td>\n",
       "    </tr>\n",
       "    <tr>\n",
       "      <th>std</th>\n",
       "      <td>12162.666724</td>\n",
       "      <td>1.420828</td>\n",
       "      <td>1.251379e+05</td>\n",
       "    </tr>\n",
       "    <tr>\n",
       "      <th>min</th>\n",
       "      <td>0.000000</td>\n",
       "      <td>0.000000</td>\n",
       "      <td>1.000000e+00</td>\n",
       "    </tr>\n",
       "    <tr>\n",
       "      <th>25%</th>\n",
       "      <td>22.000000</td>\n",
       "      <td>0.000000</td>\n",
       "      <td>2.221750e+03</td>\n",
       "    </tr>\n",
       "    <tr>\n",
       "      <th>50%</th>\n",
       "      <td>530.000000</td>\n",
       "      <td>0.000000</td>\n",
       "      <td>1.009500e+04</td>\n",
       "    </tr>\n",
       "    <tr>\n",
       "      <th>75%</th>\n",
       "      <td>3374.250000</td>\n",
       "      <td>0.000000</td>\n",
       "      <td>3.714150e+04</td>\n",
       "    </tr>\n",
       "    <tr>\n",
       "      <th>max</th>\n",
       "      <td>341621.000000</td>\n",
       "      <td>153.000000</td>\n",
       "      <td>2.680199e+06</td>\n",
       "    </tr>\n",
       "  </tbody>\n",
       "</table>\n",
       "</div>"
      ],
      "text/plain": [
       "          fav_number  retweet_count   tweet_count\n",
       "count   13804.000000   13804.000000  1.380400e+04\n",
       "mean     4235.962692       0.068169  3.807311e+04\n",
       "std     12162.666724       1.420828  1.251379e+05\n",
       "min         0.000000       0.000000  1.000000e+00\n",
       "25%        22.000000       0.000000  2.221750e+03\n",
       "50%       530.000000       0.000000  1.009500e+04\n",
       "75%      3374.250000       0.000000  3.714150e+04\n",
       "max    341621.000000     153.000000  2.680199e+06"
      ]
     },
     "execution_count": 13,
     "metadata": {},
     "output_type": "execute_result"
    }
   ],
   "source": [
    "data.describe()"
   ]
  },
  {
   "cell_type": "markdown",
   "metadata": {},
   "source": [
    "### Cleaning Textual Data"
   ]
  },
  {
   "cell_type": "code",
   "execution_count": 14,
   "metadata": {},
   "outputs": [],
   "source": [
    "stop = stopwords.words('english')\n",
    "porter = PorterStemmer()\n",
    "\n",
    "def preprocessor(text):\n",
    "    \"\"\" \n",
    "    Return a cleaned version of text, but keeping the emoticons\n",
    "    \"\"\"\n",
    "    # Remove HTML markup\n",
    "    text = re.sub('<[^>]*>', '', text)\n",
    "    # Remove url tokens\n",
    "    text = re.sub('http.*', ' ', text)\n",
    "    # Save emoticons for later appending\n",
    "    emoticons = re.findall('(?::|;|=)(?:-)?(?:\\)|\\(|D|P)', text)\n",
    "    # Remove any non-alphanumeric character and append the emoticons,\n",
    "    # removing the nose character of emoji for standarization. Convert to lower case\n",
    "    text = re.sub('[^a-zA-Z0-9]+', ' ', text.lower()) + ' ' + ' '.join(emoticons).replace('-', '')\n",
    "    \n",
    "    return text\n",
    "\n",
    "def remove_dup_whitespace(text):\n",
    "    \"\"\"\n",
    "    This function removes duplicated whitespaces of a string\n",
    "    \"\"\"\n",
    "    return re.sub('\\s{2,}', ' ',text)\n",
    "\n",
    "def tokenizer_porter(text):\n",
    "    \"\"\"\n",
    "    This function tokenize and also perform stemming \n",
    "    \"\"\"\n",
    "    return [porter.stem(word) for word in text.lower().split()]\n",
    "\n",
    "def clean_tweet(text):\n",
    "    \"\"\"\n",
    "    This function tokenizes whole tweet into tokens,\n",
    "    Then clean it, remove stopwords and combine back as a tweet.\n",
    "    \n",
    "    In other words, this function combines all 3 above functions\n",
    "    \"\"\"\n",
    "    clean = \"\"\n",
    "    tokens = tokenizer_porter(text)\n",
    "    for token in tokens:\n",
    "        if len(token)> 1:\n",
    "            if token not in stop:\n",
    "                clean += preprocessor(token)\n",
    "    return remove_dup_whitespace(clean)"
   ]
  },
  {
   "cell_type": "markdown",
   "metadata": {},
   "source": [
    "#### Hanlding missing values of `description`"
   ]
  },
  {
   "cell_type": "code",
   "execution_count": 15,
   "metadata": {},
   "outputs": [],
   "source": [
    "def has_nan(X):\n",
    "    '''\n",
    "    Input: Dataframe\n",
    "    This func check if the features of a DataFrame has missing values or not\n",
    "    '''\n",
    "    X_ = X.isnull()\n",
    "    X_ = X_.add_suffix('_has_nan')\n",
    "    return X_\n",
    "\n",
    "has_nan_df = has_nan(data[['description']])\n",
    "data = pd.concat([data, has_nan_df], axis=1)\n",
    "\n",
    "# Fill NaN with empty strings\n",
    "data['description'].fillna(\"\", inplace=True)"
   ]
  },
  {
   "cell_type": "code",
   "execution_count": 16,
   "metadata": {},
   "outputs": [],
   "source": [
    "data[['text','description']] = data[['text','description']].applymap(clean_tweet)"
   ]
  },
  {
   "cell_type": "markdown",
   "metadata": {},
   "source": [
    "## 3. Visualizing Data\n",
    "\n",
    "Among text data, i want to find out if other features can give me useful information or show some special characteristics."
   ]
  },
  {
   "cell_type": "markdown",
   "metadata": {},
   "source": [
    "### Target"
   ]
  },
  {
   "cell_type": "code",
   "execution_count": 17,
   "metadata": {},
   "outputs": [
    {
     "data": {
      "image/png": "[encoded data removed]",
      "text/plain": [
       "<Figure size 700x700 with 1 Axes>"
      ]
     },
     "metadata": {},
     "output_type": "display_data"
    }
   ],
   "source": [
    "plt.figure(figsize=(7,7))\n",
    "data['gender'].value_counts().plot(kind='pie', autopct='%1.1f%%',\n",
    "                  startangle=90, wedgeprops=dict(width=0.3, edgecolor='w'))\n",
    "plt.show()"
   ]
  },
  {
   "cell_type": "markdown",
   "metadata": {},
   "source": [
    "### `favorites`, `tweets` and `retweets` vs Label"
   ]
  },
  {
   "cell_type": "code",
   "execution_count": 18,
   "metadata": {},
   "outputs": [
    {
     "data": {
      "image/png": "[encoded data removed]",
      "text/plain": [
       "<Figure size 1500x500 with 3 Axes>"
      ]
     },
     "metadata": {},
     "output_type": "display_data"
    }
   ],
   "source": [
    "plt.figure(figsize=(15,5))\n",
    "\n",
    "for i,j in enumerate(['fav_number','retweet_count','tweet_count']):\n",
    "    plt.subplot(1,3,i+1)\n",
    "    sns.barplot (x = 'gender', y = j,data = data)\n",
    "\n",
    "plt.show()"
   ]
  },
  {
   "cell_type": "markdown",
   "metadata": {},
   "source": [
    "### Visualize `Color` features"
   ]
  },
  {
   "cell_type": "code",
   "execution_count": 19,
   "metadata": {},
   "outputs": [],
   "source": [
    "def visualize_color(color_feature, data):\n",
    "    if (color_feature) not in data.columns:\n",
    "        return 'Invalid color feature'\n",
    "    \n",
    "    # Clean color map that misses prefix 0s\n",
    "    clean_color_map = lambda x: \"0\"*(6-len(x))+x if len(x)<6 else x \n",
    "    \n",
    "    genders = ['male','female','brand']\n",
    "    plt.figure(figsize=(15,5))\n",
    "    for i, j in enumerate(genders):\n",
    "        plt.subplot(1,len(genders),i+1)\n",
    "        plt.gca().set_title(j + '_' + color_feature)\n",
    "        top_color_count = data[data['gender'] == j][color_feature].value_counts().head(7)\n",
    "        top_color = top_color_count.index.values\n",
    "        top_color = list(map(clean_color_map, top_color))\n",
    "        plt.gca().set_facecolor('xkcd:salmon')\n",
    "        sns.barplot (x = top_color_count, y = top_color, \n",
    "                     palette=list(map(lambda x: '#'+x, top_color)))\n",
    "    plt.show()"
   ]
  },
  {
   "cell_type": "code",
   "execution_count": 20,
   "metadata": {},
   "outputs": [
    {
     "data": {
      "image/png": "[encoded data removed]",
      "text/plain": [
       "<Figure size 1500x500 with 3 Axes>"
      ]
     },
     "metadata": {},
     "output_type": "display_data"
    }
   ],
   "source": [
    "visualize_color('sidebar_color', data)"
   ]
  },
  {
   "cell_type": "code",
   "execution_count": 21,
   "metadata": {},
   "outputs": [
    {
     "data": {
      "image/png": "[encoded data removed]",
      "text/plain": [
       "<Figure size 1500x500 with 3 Axes>"
      ]
     },
     "metadata": {},
     "output_type": "display_data"
    }
   ],
   "source": [
    "visualize_color('link_color', data)"
   ]
  },
  {
   "cell_type": "markdown",
   "metadata": {},
   "source": [
    "For `sidebar color`, the top 3 colors are the same (this seems to be these colors are default theme color of Twitter). It is shown that the number of 2nd and 3rd color of female is larger but this can be explained by the fact that the number of female users are more than male.\n",
    "\n",
    "For `link_color`, except for the most common color, which is the theme color of Twitter, we can see that there are differences for other color preferences between male and female.\n",
    "\n",
    "We can group the most common color map of features `link_color` and `sidebar_color` to `theme_color`, then we can make these 2 features useful for predicting the Gender."
   ]
  },
  {
   "cell_type": "markdown",
   "metadata": {},
   "source": [
    "## 4. Classification modeling "
   ]
  },
  {
   "cell_type": "markdown",
   "metadata": {},
   "source": [
    "### 4.1 with Tweet-text only"
   ]
  },
  {
   "cell_type": "markdown",
   "metadata": {},
   "source": [
    "#### How relevant are words? Term frequency-inverse document frequency (TF-IDF)\n",
    "\n",
    "We could use these raw term frequencies to score the words in our algorithm. There is a problem though: If a word is very frequent in _all_ documents, then it probably doesn't carry a lot of information. In order to tacke this problem we can use **term frequency-inverse document frequency**, which will reduce the score the more frequent the word is accross all twits. It is calculated like this:\n",
    "\n",
    "\\begin{equation*}\n",
    "tf-idf(t,d) = tf(t,d) ~ idf(t,d)\n",
    "\\end{equation*}\n",
    "\n",
    "_tf(t,d)_ is the raw term frequency descrived above. _idf(t,d)_ is the inverse document frequency, than can be calculated as follows:\n",
    "\n",
    "\\begin{equation*}\n",
    "\\log \\frac{n_d}{1+df\\left(d,t\\right)}\n",
    "\\end{equation*}\n",
    "\n",
    "where `n` is the total number of documents (number of _twits_ in this problem) and _df(t,d)_ is the number of documents where the term `t` appears. \n",
    "\n",
    "The `1` addition in the denominator is just to avoid zero term for terms that appear in all documents. Ans the `log` ensures that low frequency term don't get too much weight.\n",
    "\n",
    "The IDF (inverse document frequency) of a word is the measure of how significant that term is in the whole corpus (the whole collection of _twits_ in this problem).\n",
    "\n",
    "The higher the TF-IDF weight value, the rarer the term. The smaller the weight, the more common the term."
   ]
  },
  {
   "cell_type": "code",
   "execution_count": 22,
   "metadata": {
    "scrolled": true
   },
   "outputs": [
    {
     "data": {
      "text/plain": [
       "19087     rvpisarapist player liter give 110 show great...\n",
       "11212    backer atrium lobbi consid join forc foyer lob...\n",
       "14799    wa suppos receiv spirithalloween order today c...\n",
       "6846     depress come least expect it like shittiest pe...\n",
       "1226     grime throw fun bloodi parti flesh without blo...\n",
       "Name: text, dtype: object"
      ]
     },
     "execution_count": 22,
     "metadata": {},
     "output_type": "execute_result"
    }
   ],
   "source": [
    "# Firstly, convert categorical labels into numerical ones\n",
    "# Function for encoding categories\n",
    "from sklearn.preprocessing import LabelEncoder\n",
    "\n",
    "encoder = LabelEncoder()\n",
    "y = encoder.fit_transform(data['gender'])\n",
    "\n",
    "# split the dataset in train and test\n",
    "X = data['text']\n",
    "# Stratify will create a train set with the same class balance than the original set\n",
    "X_train, X_test, y_train, y_test = train_test_split(X, y, test_size=0.3, random_state=0, stratify=y)\n",
    "\n",
    "X_train.head()"
   ]
  },
  {
   "cell_type": "code",
   "execution_count": 23,
   "metadata": {},
   "outputs": [],
   "source": [
    "def classification_modeling(X_train, X_test, y_train, y_test, text_feature=False):\n",
    "    \"\"\"\n",
    "    This function iterates different possible models\n",
    "    and return corresponding accuracy\n",
    "    \n",
    "    Args:\n",
    "        text_feature: Whether the model handles text features or not\n",
    "    \n",
    "    Return: The best fitted model\n",
    "    \"\"\"\n",
    "    clf_dict = {'lr': LogisticRegression(multi_class='ovr', random_state=0),\n",
    "                'rf': RandomForestClassifier(n_estimators = 50, random_state=0),\n",
    "                'svm': SVC(kernel = 'rbf', probability=True),\n",
    "                'nb': ComplementNB()\n",
    "               }\n",
    "    result_dict = dict.fromkeys(clf_dict, None)\n",
    "    pred_dict = dict.fromkeys(clf_dict, None)\n",
    "    \n",
    "    for clf_key in clf_dict:\n",
    "        if text_feature == True:\n",
    "            tfidf = TfidfVectorizer()\n",
    "            clf = Pipeline([('vect', tfidf),\n",
    "                            ('clf', clf_dict[clf_key])])\n",
    "        else:\n",
    "            clf = clf_dict[clf_key]\n",
    "        clf.fit(X_train, y_train)\n",
    "        predictions = clf.predict(X_test)\n",
    "        acc = accuracy_score(y_test,predictions)\n",
    "        result_dict[clf_key] = acc\n",
    "        pred_dict[clf_key] = predictions\n",
    "        print('Fitting ' + clf_key + ' - Acc:', acc)\n",
    "        print('Confusion matrix:\\n',confusion_matrix(y_test,predictions))\n",
    "        print('-'*40)\n",
    "        \n",
    "    win_clf = max(result_dict, key=lambda key: result_dict[key])\n",
    "    print(\"Win classifier: \", win_clf, \"- Acc: \",result_dict[win_clf])\n",
    "    return np.asarray(pred_dict[win_clf])"
   ]
  },
  {
   "cell_type": "code",
   "execution_count": 26,
   "metadata": {},
   "outputs": [
    {
     "name": "stdout",
     "output_type": "stream",
     "text": [
      "Fitting lr - Acc: 0.5463544181554805\n",
      "Confusion matrix:\n",
      " [[ 587  282  267]\n",
      " [ 122 1091  397]\n",
      " [ 165  646  585]]\n",
      "----------------------------------------\n",
      "Fitting rf - Acc: 0.5217286335103815\n",
      "Confusion matrix:\n",
      " [[ 524  409  203]\n",
      " [  92 1241  277]\n",
      " [ 125  875  396]]\n",
      "----------------------------------------\n",
      "Fitting svm - Acc: 0.5533558667310478\n",
      "Confusion matrix:\n",
      " [[ 553  300  283]\n",
      " [  80 1148  382]\n",
      " [ 120  685  591]]\n",
      "----------------------------------------\n",
      "Fitting nb - Acc: 0.5509415741187832\n",
      "Confusion matrix:\n",
      " [[ 641  295  200]\n",
      " [ 156 1173  281]\n",
      " [ 202  726  468]]\n",
      "----------------------------------------\n",
      "Win classifier:  svm - Acc:  0.5533558667310478\n"
     ]
    }
   ],
   "source": [
    "best_text_preds = classification_modeling(X_train, X_test, y_train, y_test, text_feature=True)"
   ]
  },
  {
   "cell_type": "markdown",
   "metadata": {},
   "source": [
    "### 4.2 Concatenating `description` to `text`"
   ]
  },
  {
   "cell_type": "code",
   "execution_count": 27,
   "metadata": {},
   "outputs": [],
   "source": [
    "# Concatenate text with description, add white space between. \n",
    "# By using Series helper functions Series.str()\n",
    "data['text_description'] = data['text'].str.cat(data['description'], sep=' ')"
   ]
  },
  {
   "cell_type": "markdown",
   "metadata": {},
   "source": [
    "### Re-create training dataset"
   ]
  },
  {
   "cell_type": "code",
   "execution_count": 28,
   "metadata": {},
   "outputs": [
    {
     "data": {
      "text/plain": [
       "False"
      ]
     },
     "execution_count": 28,
     "metadata": {},
     "output_type": "execute_result"
    }
   ],
   "source": [
    "# split the dataset in train and test\n",
    "X = data['text_description']\n",
    "X_train, X_test, y_train, y_test = train_test_split(X, y, test_size=0.3, random_state=0, stratify=y)\n",
    "#In the code line above, stratify will create a train set with the same class balance than the original set\n",
    "\n",
    "X_train.head()\n",
    "X_train.isnull().values.any() # Check if any null values, True if there is at least one."
   ]
  },
  {
   "cell_type": "code",
   "execution_count": 29,
   "metadata": {},
   "outputs": [
    {
     "name": "stdout",
     "output_type": "stream",
     "text": [
      "Fitting lr - Acc: 0.6557218734910671\n",
      "Confusion matrix:\n",
      " [[ 820  167  149]\n",
      " [  73 1227  310]\n",
      " [ 137  590  669]]\n",
      "----------------------------------------\n",
      "Fitting rf - Acc: 0.6127474649927571\n",
      "Confusion matrix:\n",
      " [[ 776  242  118]\n",
      " [  88 1328  194]\n",
      " [ 120  842  434]]\n",
      "----------------------------------------\n",
      "Fitting svm - Acc: 0.6581361661033317\n",
      "Confusion matrix:\n",
      " [[ 784  177  175]\n",
      " [  55 1272  283]\n",
      " [ 105  621  670]]\n",
      "----------------------------------------\n",
      "Fitting nb - Acc: 0.6533075808788025\n",
      "Confusion matrix:\n",
      " [[ 878  154  104]\n",
      " [ 129 1277  204]\n",
      " [ 190  655  551]]\n",
      "----------------------------------------\n",
      "Win classifier:  svm - Acc:  0.6581361661033317\n"
     ]
    }
   ],
   "source": [
    "best_text_preds = classification_modeling(X_train, X_test, y_train, y_test, text_feature=True)"
   ]
  },
  {
   "cell_type": "markdown",
   "metadata": {},
   "source": [
    "### 4.3 with non-text features"
   ]
  },
  {
   "cell_type": "code",
   "execution_count": 30,
   "metadata": {},
   "outputs": [],
   "source": [
    "encoder = LabelEncoder()\n",
    "y = encoder.fit_transform(data['gender'])\n",
    "\n",
    "# split the dataset in train and test\n",
    "X = data.drop(columns=['text','description','text_description', 'gender'])"
   ]
  },
  {
   "cell_type": "markdown",
   "metadata": {},
   "source": [
    "### Handling categorical features\n",
    "- `link_color` and `sidebar_color` has too many unique values, therefore, ordinary one-hot encoding will create a very large number of features.\n",
    "- Solution: Use `labelcount_encode` as inspried by [wrosinki](https://wrosinski.github.io/fe_categorical_encoding/)"
   ]
  },
  {
   "cell_type": "code",
   "execution_count": 31,
   "metadata": {},
   "outputs": [],
   "source": [
    "def labelcount_encode(X, categorical_features, ascending=False):\n",
    "    '''\n",
    "        Encoding function taken from, ref for description:\n",
    "        https://wrosinski.github.io/fe_categorical_encoding/\n",
    "    '''\n",
    "    print('LabelCount encoding: {}'.format(categorical_features))\n",
    "    X_ = pd.DataFrame()\n",
    "    for cat_feature in categorical_features:\n",
    "        cat_feature_value_counts = X[cat_feature].value_counts()\n",
    "        value_counts_list = cat_feature_value_counts.index.tolist()\n",
    "        if ascending:\n",
    "            # for ascending ordering\n",
    "            value_counts_range = list(\n",
    "                reversed(range(len(cat_feature_value_counts))))\n",
    "        else:\n",
    "            # for descending ordering\n",
    "            value_counts_range = list(range(len(cat_feature_value_counts)))\n",
    "        labelcount_dict = dict(zip(value_counts_list, value_counts_range))\n",
    "        X_[cat_feature] = X[cat_feature].map(\n",
    "            labelcount_dict)\n",
    "    X_ = X_.add_suffix('_labelcount_encoded')\n",
    "    if ascending:\n",
    "        X_ = X_.add_suffix('_ascending')\n",
    "    else:\n",
    "        X_ = X_.add_suffix('_descending')\n",
    "    X_ = X_.astype(np.float)\n",
    "    return X_"
   ]
  },
  {
   "cell_type": "code",
   "execution_count": 32,
   "metadata": {},
   "outputs": [
    {
     "name": "stdout",
     "output_type": "stream",
     "text": [
      "LabelCount encoding: ['link_color', 'sidebar_color']\n",
      "<class 'pandas.core.frame.DataFrame'>\n",
      "Int64Index: 13804 entries, 0 to 20049\n",
      "Data columns (total 6 columns):\n",
      " #   Column                                       Non-Null Count  Dtype  \n",
      "---  ------                                       --------------  -----  \n",
      " 0   fav_number                                   13804 non-null  int64  \n",
      " 1   retweet_count                                13804 non-null  int64  \n",
      " 2   tweet_count                                  13804 non-null  int64  \n",
      " 3   description_has_nan                          13804 non-null  bool   \n",
      " 4   link_color_labelcount_encoded_descending     13804 non-null  float64\n",
      " 5   sidebar_color_labelcount_encoded_descending  13804 non-null  float64\n",
      "dtypes: bool(1), float64(2), int64(3)\n",
      "memory usage: 660.5 KB\n"
     ]
    },
    {
     "name": "stderr",
     "output_type": "stream",
     "text": [
      "C:\\Users\\ADITYA\\AppData\\Local\\Temp\\ipykernel_33972\\644001223.py:26: DeprecationWarning: `np.float` is a deprecated alias for the builtin `float`. To silence this warning, use `float` by itself. Doing this will not modify any behavior and is safe. If you specifically wanted the numpy scalar type, use `np.float64` here.\n",
      "Deprecated in NumPy 1.20; for more details and guidance: https://numpy.org/devdocs/release/1.20.0-notes.html#deprecations\n",
      "  X_ = X_.astype(np.float)\n"
     ]
    }
   ],
   "source": [
    "cat_features = ['link_color','sidebar_color']\n",
    "encoded = labelcount_encode(X, cat_features)\n",
    "\n",
    "X = pd.concat([X, encoded], axis=1)\n",
    "\n",
    "X.drop(columns=cat_features, inplace=True)\n",
    "X.info()"
   ]
  },
  {
   "cell_type": "code",
   "execution_count": 33,
   "metadata": {},
   "outputs": [],
   "source": [
    "# Stratify will create a train set with the same class balance than the original set\n",
    "X_train, X_test, y_train, y_test = train_test_split(X, y, test_size=0.3, random_state=0, stratify=y)"
   ]
  },
  {
   "cell_type": "code",
   "execution_count": 34,
   "metadata": {},
   "outputs": [
    {
     "name": "stdout",
     "output_type": "stream",
     "text": [
      "Fitting lr - Acc: 0.5019314340898117\n",
      "Confusion matrix:\n",
      " [[ 707  379   50]\n",
      " [ 280 1213  117]\n",
      " [ 355  882  159]]\n",
      "----------------------------------------\n",
      "Fitting rf - Acc: 0.5651859005311444\n",
      "Confusion matrix:\n",
      " [[ 713  223  200]\n",
      " [ 175 1010  425]\n",
      " [ 227  551  618]]\n",
      "----------------------------------------\n",
      "Fitting svm - Acc: 0.4604056011588605\n",
      "Confusion matrix:\n",
      " [[ 506  630    0]\n",
      " [ 208 1399    3]\n",
      " [ 241 1153    2]]\n",
      "----------------------------------------\n",
      "Fitting nb - Acc: 0.47271849348140993\n",
      "Confusion matrix:\n",
      " [[ 881  255    0]\n",
      " [ 533 1077    0]\n",
      " [ 647  749    0]]\n",
      "----------------------------------------\n",
      "Win classifier:  rf - Acc:  0.5651859005311444\n"
     ]
    }
   ],
   "source": [
    "best_non_text_preds = classification_modeling(X_train, X_test, y_train, y_test)"
   ]
  },
  {
   "cell_type": "markdown",
   "metadata": {},
   "source": [
    "### 4.4 Ensembling\n",
    "\n",
    "#### Combine models trained with text and non-text"
   ]
  },
  {
   "cell_type": "code",
   "execution_count": 35,
   "metadata": {},
   "outputs": [
    {
     "name": "stdout",
     "output_type": "stream",
     "text": [
      "Ensembled accuracy:  0.5864316755190729\n"
     ]
    }
   ],
   "source": [
    "final_preds = np.around(best_text_preds*0.5 + best_non_text_preds*0.5)\n",
    "print('Ensembled accuracy: ', accuracy_score(final_preds, y_test))"
   ]
  },
  {
   "cell_type": "markdown",
   "metadata": {},
   "source": [
    "\n",
    "#### Try using ensemble classifiers for textual data only"
   ]
  },
  {
   "cell_type": "code",
   "execution_count": 36,
   "metadata": {
    "scrolled": true
   },
   "outputs": [
    {
     "name": "stdout",
     "output_type": "stream",
     "text": [
      "Accuracy: 0.6627233220666344\n",
      "Confusion matrix:\n",
      " [[ 861  140  135]\n",
      " [  94 1216  300]\n",
      " [ 161  567  668]]\n"
     ]
    }
   ],
   "source": [
    "X = data['text_description']\n",
    "y = encoder.fit_transform(data['gender'])\n",
    "X_train, X_test, y_train, y_test = train_test_split(X, y, test_size=0.3, random_state=0, stratify=y)\n",
    "\n",
    "clf1 = LogisticRegression(multi_class='ovr', random_state=0)\n",
    "clf2 = ComplementNB()\n",
    "clf3 = SVC(kernel = 'linear',probability = True, random_state=0)\n",
    "\n",
    "ensemble_clf = VotingClassifier(estimators=[\n",
    "        ('lr', clf1), ('rf', clf2), ('svm', clf3)], voting='soft')\n",
    "\n",
    "clf = Pipeline([('vect', TfidfVectorizer()),\n",
    "                ('clf', ensemble_clf)])\n",
    "\n",
    "clf.fit(X_train, y_train)\n",
    "\n",
    "\n",
    "predictions = clf.predict(X_test)\n",
    "print('Accuracy:',accuracy_score(y_test,predictions))\n",
    "print('Confusion matrix:\\n',confusion_matrix(y_test,predictions))"
   ]
  },
  {
   "cell_type": "markdown",
   "metadata": {},
   "source": [
    "## Conclusions\n",
    "\n",
    "I implemented a basline model of Gender classification based on the dataset provided on Kaggle.\n",
    "This is actually an interesting problem among with the Sentiment classification problem, which is more popular.\n",
    "\n",
    "The results show that Only the **Tweet text** can yield a moderate accuracy, although it's not substantially high.\n",
    "But with the content from the **Description**, the classifiers actually improve its performance significantly.\n",
    "\n",
    "The models fitted on other features do not yield good result, average accuracy is about 50%, which represents a random model. Further feature engineering and analysis should be conducted to make use of these features better, especially on `link_color` and `sidebar_color`, as they are shown to be different for different gender.\n",
    "\n",
    "A trial attempt of using majority voting for models trained on **Tweet text** increase the accuracy slightly (0.4%).\n",
    "\n",
    "As reported by [CrowdFlower AI](https://www.figure-eight.com/using-machine-learning-to-predict-gender/), their model can get to 60% of accuracy with a different approach (although the evaluation metrics may not be `accuracy`). "
   ]
  },
  {
   "cell_type": "markdown",
   "metadata": {},
   "source": [
    "## Future works\n",
    "- Inspect confusion matrix to see which target value the model performs poorly\n",
    "- Further Feature Engineering for non-text features, especially `link_color` and `text_color`\n",
    "- Try using Boosting algorithms (LightGBM, CatBoost, XGBoost,...) for tabular data.\n",
    "    - These models can also handle missing values, categorical values themselves\n",
    "- Try using NN for textual data."
   ]
  }
 ],
 "metadata": {
  "kernelspec": {
   "display_name": "Python 3 (ipykernel)",
   "language": "python",
   "name": "python3"
  },
  "language_info": {
   "codemirror_mode": {
    "name": "ipython",
    "version": 3
   },
   "file_extension": ".py",
   "mimetype": "text/x-python",
   "name": "python",
   "nbconvert_exporter": "python",
   "pygments_lexer": "ipython3",
   "version": "3.11.0"
  }
 },
 "nbformat": 4,
 "nbformat_minor": 2
}
